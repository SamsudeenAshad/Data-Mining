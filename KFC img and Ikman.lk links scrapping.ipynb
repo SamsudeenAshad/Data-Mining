{
 "cells": [
  {
   "cell_type": "code",
   "execution_count": 2,
   "id": "0df45263",
   "metadata": {},
   "outputs": [
    {
     "ename": "SyntaxError",
     "evalue": "unterminated string literal (detected at line 18) (1091019665.py, line 18)",
     "output_type": "error",
     "traceback": [
      "\u001b[1;36m  Cell \u001b[1;32mIn[2], line 18\u001b[1;36m\u001b[0m\n\u001b[1;33m    link = minigurls(\"https://www.ikman.lk/\"\")\u001b[0m\n\u001b[1;37m                                            ^\u001b[0m\n\u001b[1;31mSyntaxError\u001b[0m\u001b[1;31m:\u001b[0m unterminated string literal (detected at line 18)\n"
     ]
    }
   ],
   "source": [
    "import requests\n",
    "from bs4 import BeautifulSoup\n",
    "\n",
    "#i want to extract \"URL's\" associated with ikman.lk\n",
    "\n",
    "def miningurls(url):\n",
    "    try:\n",
    "        resopnse = request.get(url) # connecting to the url via GET request\n",
    "        Soup = BeautifulSoup(response.text, 'html.parser') #pasing the html content of the page\n",
    "        \n",
    "        url = [a['href']] for a in soup.find_all('a',herf=True) #filtering links from the html content\n",
    "        \n",
    "        return urls\n",
    "    except Exception as e:\n",
    "        print (\"Connetion error !!!!!\")\n",
    "        return []\n",
    "        \n",
    "link = minigurls(\"https://www.ikman.lk/\"\")"
   ]
  },
  {
   "cell_type": "code",
   "execution_count": 3,
   "id": "22832fdf",
   "metadata": {},
   "outputs": [
    {
     "name": "stdout",
     "output_type": "stream",
     "text": [
      "https://ikman.lk/en/boost-ad\n",
      "https://ikman.lk/en/sell-anything\n",
      "https://helpcenteren.ikman.lk\n",
      "https://carsguide.ikman.lk/\n",
      "https://bikesguide.ikman.lk/\n",
      "https://blog.ikman.lk/en\n",
      "https://www.tiktok.com/@ikman.lk?lang=en\n"
     ]
    }
   ],
   "source": [
    "import requests\n",
    "from bs4 import BeautifulSoup\n",
    "\n",
    "# Function to extract URLs associated with ikman.lk\n",
    "def miningurls(url):\n",
    "    try:\n",
    "        # Connecting to the URL via GET request\n",
    "        response = requests.get(url)  \n",
    "        \n",
    "        # Parsing the HTML content of the page\n",
    "        soup = BeautifulSoup(response.text, 'html.parser')  \n",
    "        \n",
    "        # Filtering links from the HTML content\n",
    "        urls = [a['href'] for a in soup.find_all('a', href=True) if 'ikman.lk' in a['href']]  \n",
    "        \n",
    "        return urls\n",
    "    except Exception as e:\n",
    "        print(\"Connection error:\", e)\n",
    "        return []\n",
    "\n",
    "# Test the function\n",
    "link = miningurls(\"https://www.ikman.lk/\")\n",
    "\n",
    "# Print the extracted URLs\n",
    "for url in link:\n",
    "    print(url)\n"
   ]
  },
  {
   "cell_type": "code",
   "execution_count": 6,
   "id": "1917e2ad",
   "metadata": {},
   "outputs": [
    {
     "name": "stdout",
     "output_type": "stream",
     "text": [
      "Error occurred: 403 Client Error: Forbidden for url: https://www.kfc.com/\n"
     ]
    }
   ],
   "source": [
    "import requests\n",
    "from bs4 import BeautifulSoup\n",
    "\n",
    "def scrape_kfc_images(url):\n",
    "    try:\n",
    "        # Send a GET request to the URL\n",
    "        response = requests.get(url)\n",
    "        response.raise_for_status()  # Raise an HTTPError for bad responses (4xx or 5xx)\n",
    "\n",
    "        # Parse the HTML content of the page\n",
    "        soup = BeautifulSoup(response.text, 'html.parser')\n",
    "\n",
    "        # Find all image tags\n",
    "        img_tags = soup.find_all('img')\n",
    "\n",
    "        # Extract the 'src' attribute of each image tag\n",
    "        img_urls = [img['src'] for img in img_tags if 'src' in img.attrs]\n",
    "\n",
    "        return img_urls\n",
    "    except Exception as e:\n",
    "        print(f\"Error occurred: {e}\")\n",
    "        return []\n",
    "\n",
    "# Example: Scrape images from KFC's website\n",
    "kfc_url = \"https://www.kfc.com\"  # Replace with the desired KFC website URL\n",
    "images = scrape_kfc_images(kfc_url)\n",
    "\n",
    "# Print the extracted image URLs\n",
    "for img_url in images:\n",
    "    print(img_url)\n"
   ]
  },
  {
   "cell_type": "code",
   "execution_count": 10,
   "id": "50461a85",
   "metadata": {},
   "outputs": [
    {
     "name": "stdout",
     "output_type": "stream",
     "text": [
      "https://www.facebook.com/tr?id=2067192893672903&ev=PageView&noscript=1\n",
      "/images/icons/pin.png\n",
      "/images/close2.png\n",
      "/images/logo.png\n",
      "/images/home-slider-3.jpg\n",
      "https://admin-kfc-web.azurewebsites.net//images/sliderimages/d5a32ea361ef43d89dfb16096003a1eb.jpg\n",
      "https://admin-kfc-web.azurewebsites.net//images/sliderimages/03216f67500642769d7b19d5298f3e4d.jpg\n",
      "https://admin-kfc-web.azurewebsites.net//images/sliderimages/51114ff3e474404b81f9a97f11b7dbd7.jpg\n",
      "/images/icons/scooter.svg\n",
      "/images/icons/food.svg\n",
      "/images/KFC-Home.jpg\n",
      "/images/KFC-Delivery.png\n",
      "/images/logo.png\n"
     ]
    }
   ],
   "source": [
    "import requests\n",
    "from bs4 import BeautifulSoup\n",
    "\n",
    "def scrape_kfc_images(url):\n",
    "    try:\n",
    "        # Simulate a browser by adding headers\n",
    "        headers = {\n",
    "            \"User-Agent\": \"Mozilla/5.0 (Windows NT 10.0; Win64; x64) AppleWebKit/537.36 (KHTML, like Gecko) Chrome/109.0.0.0 Safari/537.36\",\n",
    "            \"Accept-Language\": \"en-US,en;q=0.9\",\n",
    "        }\n",
    "\n",
    "        # Send a GET request with headers\n",
    "        response = requests.get(url, headers=headers)\n",
    "        response.raise_for_status()  # Raise an error for bad status codes\n",
    "\n",
    "        # Parse the HTML content of the page\n",
    "        soup = BeautifulSoup(response.text, 'html.parser')\n",
    "\n",
    "        # Find all image tags\n",
    "        img_tags = soup.find_all('img')\n",
    "\n",
    "        # Extract the 'src' attribute of each image tag\n",
    "        img_urls = [img['src'] for img in img_tags if 'src' in img.attrs]\n",
    "\n",
    "        return img_urls\n",
    "    except Exception as e:\n",
    "        print(f\"Error occurred: {e}\")\n",
    "        return []\n",
    "\n",
    "# Example: Scrape images from KFC's website\n",
    "kfc_url = \"https://www.kfc.lk/\"  # Replace with the desired KFC website URL\n",
    "images = scrape_kfc_images(kfc_url)\n",
    "\n",
    "# Print the extracted image URLs\n",
    "for img_url in images:\n",
    "    print(img_url)\n"
   ]
  },
  {
   "cell_type": "code",
   "execution_count": 9,
   "id": "e3adb906",
   "metadata": {},
   "outputs": [
    {
     "name": "stdout",
     "output_type": "stream",
     "text": [
      "https://www.facebook.com/tr?id=2067192893672903&ev=PageView&noscript=1\n",
      "https://www.kfc.lk/images/icons/pin.png\n",
      "https://www.kfc.lk/images/close2.png\n",
      "https://www.kfc.lk/images/logo.png\n",
      "https://www.kfc.lk/images/home-slider-3.jpg\n",
      "https://admin-kfc-web.azurewebsites.net//images/sliderimages/d5a32ea361ef43d89dfb16096003a1eb.jpg\n",
      "https://admin-kfc-web.azurewebsites.net//images/sliderimages/03216f67500642769d7b19d5298f3e4d.jpg\n",
      "https://admin-kfc-web.azurewebsites.net//images/sliderimages/51114ff3e474404b81f9a97f11b7dbd7.jpg\n",
      "https://www.kfc.lk/images/icons/scooter.svg\n",
      "https://www.kfc.lk/images/icons/food.svg\n",
      "https://www.kfc.lk/images/KFC-Home.jpg\n",
      "https://www.kfc.lk/images/KFC-Delivery.png\n",
      "https://www.kfc.lk/images/logo.png\n"
     ]
    }
   ],
   "source": [
    "import requests\n",
    "from bs4 import BeautifulSoup\n",
    "from urllib.parse import urljoin\n",
    "\n",
    "# Function to extract image URLs from a website\n",
    "def scrape_images(url):\n",
    "    try:\n",
    "        # Simulate a browser by adding headers\n",
    "        headers = {\n",
    "            \"User-Agent\": \"Mozilla/5.0 (Windows NT 10.0; Win64; x64) AppleWebKit/537.36 (KHTML, like Gecko) Chrome/109.0.0.0 Safari/537.36\",\n",
    "            \"Accept-Language\": \"en-US,en;q=0.9\",\n",
    "        }\n",
    "\n",
    "        # Send a GET request with headers\n",
    "        response = requests.get(url, headers=headers)\n",
    "        response.raise_for_status()  # Raise an HTTPError for bad responses\n",
    "\n",
    "        # Parse the HTML content of the page\n",
    "        soup = BeautifulSoup(response.text, 'html.parser')\n",
    "\n",
    "        # Find all image tags\n",
    "        img_tags = soup.find_all('img')\n",
    "\n",
    "        # Extract the 'src' attribute of each image tag\n",
    "        img_urls = [urljoin(url, img['src']) for img in img_tags if 'src' in img.attrs]\n",
    "\n",
    "        return img_urls\n",
    "    except Exception as e:\n",
    "        print(\"Connection error:\", e)\n",
    "        return []\n",
    "\n",
    "# Test the function\n",
    "kfc_url = \"https://www.kfc.lk/\"  # Replace with the desired KFC website URL\n",
    "images = scrape_images(kfc_url)\n",
    "\n",
    "# Print the extracted image URLs\n",
    "for img_url in images:\n",
    "    print(img_url)\n"
   ]
  },
  {
   "cell_type": "code",
   "execution_count": null,
   "id": "2411a680",
   "metadata": {},
   "outputs": [],
   "source": []
  }
 ],
 "metadata": {
  "kernelspec": {
   "display_name": "Python 3 (ipykernel)",
   "language": "python",
   "name": "python3"
  },
  "language_info": {
   "codemirror_mode": {
    "name": "ipython",
    "version": 3
   },
   "file_extension": ".py",
   "mimetype": "text/x-python",
   "name": "python",
   "nbconvert_exporter": "python",
   "pygments_lexer": "ipython3",
   "version": "3.11.5"
  }
 },
 "nbformat": 4,
 "nbformat_minor": 5
}
